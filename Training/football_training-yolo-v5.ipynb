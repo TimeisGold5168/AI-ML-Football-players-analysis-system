{
 "cells": [
  {
   "cell_type": "code",
   "execution_count": 1,
   "metadata": {},
   "outputs": [
    {
     "name": "stdout",
     "output_type": "stream",
     "text": [
      "Requirement already satisfied: ultralytics in c:\\users\\zhent\\appdata\\local\\programs\\python\\python310\\lib\\site-packages (8.2.34)\n",
      "Requirement already satisfied: numpy<2.0.0 in c:\\users\\zhent\\appdata\\local\\programs\\python\\python310\\lib\\site-packages (from ultralytics) (1.26.4)\n",
      "Requirement already satisfied: matplotlib>=3.3.0 in c:\\users\\zhent\\appdata\\local\\programs\\python\\python310\\lib\\site-packages (from ultralytics) (3.9.0)\n",
      "Requirement already satisfied: opencv-python>=4.6.0 in c:\\users\\zhent\\appdata\\local\\programs\\python\\python310\\lib\\site-packages (from ultralytics) (4.10.0.82)\n",
      "Requirement already satisfied: pillow>=7.1.2 in c:\\users\\zhent\\appdata\\local\\programs\\python\\python310\\lib\\site-packages (from ultralytics) (10.3.0)\n",
      "Requirement already satisfied: pyyaml>=5.3.1 in c:\\users\\zhent\\appdata\\local\\programs\\python\\python310\\lib\\site-packages (from ultralytics) (6.0.1)\n",
      "Requirement already satisfied: requests>=2.23.0 in c:\\users\\zhent\\appdata\\local\\programs\\python\\python310\\lib\\site-packages (from ultralytics) (2.31.0)\n",
      "Requirement already satisfied: scipy>=1.4.1 in c:\\users\\zhent\\appdata\\local\\programs\\python\\python310\\lib\\site-packages (from ultralytics) (1.13.1)\n",
      "Requirement already satisfied: torch>=1.8.0 in c:\\users\\zhent\\appdata\\local\\programs\\python\\python310\\lib\\site-packages (from ultralytics) (2.3.1)\n",
      "Requirement already satisfied: torchvision>=0.9.0 in c:\\users\\zhent\\appdata\\local\\programs\\python\\python310\\lib\\site-packages (from ultralytics) (0.18.1)\n",
      "Requirement already satisfied: tqdm>=4.64.0 in c:\\users\\zhent\\appdata\\local\\programs\\python\\python310\\lib\\site-packages (from ultralytics) (4.65.0)\n",
      "Requirement already satisfied: psutil in c:\\users\\zhent\\appdata\\local\\programs\\python\\python310\\lib\\site-packages (from ultralytics) (5.9.8)\n",
      "Requirement already satisfied: py-cpuinfo in c:\\users\\zhent\\appdata\\local\\programs\\python\\python310\\lib\\site-packages (from ultralytics) (9.0.0)\n",
      "Requirement already satisfied: pandas>=1.1.4 in c:\\users\\zhent\\appdata\\local\\programs\\python\\python310\\lib\\site-packages (from ultralytics) (2.2.2)\n",
      "Requirement already satisfied: seaborn>=0.11.0 in c:\\users\\zhent\\appdata\\local\\programs\\python\\python310\\lib\\site-packages (from ultralytics) (0.13.2)\n",
      "Requirement already satisfied: ultralytics-thop>=2.0.0 in c:\\users\\zhent\\appdata\\local\\programs\\python\\python310\\lib\\site-packages (from ultralytics) (2.0.0)\n",
      "Requirement already satisfied: contourpy>=1.0.1 in c:\\users\\zhent\\appdata\\local\\programs\\python\\python310\\lib\\site-packages (from matplotlib>=3.3.0->ultralytics) (1.2.1)\n",
      "Requirement already satisfied: cycler>=0.10 in c:\\users\\zhent\\appdata\\local\\programs\\python\\python310\\lib\\site-packages (from matplotlib>=3.3.0->ultralytics) (0.12.1)\n",
      "Requirement already satisfied: fonttools>=4.22.0 in c:\\users\\zhent\\appdata\\local\\programs\\python\\python310\\lib\\site-packages (from matplotlib>=3.3.0->ultralytics) (4.53.0)\n",
      "Requirement already satisfied: kiwisolver>=1.3.1 in c:\\users\\zhent\\appdata\\local\\programs\\python\\python310\\lib\\site-packages (from matplotlib>=3.3.0->ultralytics) (1.4.5)\n",
      "Requirement already satisfied: packaging>=20.0 in c:\\users\\zhent\\appdata\\local\\programs\\python\\python310\\lib\\site-packages (from matplotlib>=3.3.0->ultralytics) (24.1)\n",
      "Requirement already satisfied: pyparsing>=2.3.1 in c:\\users\\zhent\\appdata\\local\\programs\\python\\python310\\lib\\site-packages (from matplotlib>=3.3.0->ultralytics) (3.0.9)\n",
      "Requirement already satisfied: python-dateutil>=2.7 in c:\\users\\zhent\\appdata\\local\\programs\\python\\python310\\lib\\site-packages (from matplotlib>=3.3.0->ultralytics) (2.9.0.post0)\n",
      "Requirement already satisfied: pytz>=2020.1 in c:\\users\\zhent\\appdata\\local\\programs\\python\\python310\\lib\\site-packages (from pandas>=1.1.4->ultralytics) (2024.1)\n",
      "Requirement already satisfied: tzdata>=2022.7 in c:\\users\\zhent\\appdata\\local\\programs\\python\\python310\\lib\\site-packages (from pandas>=1.1.4->ultralytics) (2024.1)\n",
      "Requirement already satisfied: charset-normalizer<4,>=2 in c:\\users\\zhent\\appdata\\local\\programs\\python\\python310\\lib\\site-packages (from requests>=2.23.0->ultralytics) (3.1.0)\n",
      "Requirement already satisfied: idna<4,>=2.5 in c:\\users\\zhent\\appdata\\local\\programs\\python\\python310\\lib\\site-packages (from requests>=2.23.0->ultralytics) (3.4)\n",
      "Requirement already satisfied: urllib3<3,>=1.21.1 in c:\\users\\zhent\\appdata\\local\\programs\\python\\python310\\lib\\site-packages (from requests>=2.23.0->ultralytics) (2.0.2)\n",
      "Requirement already satisfied: certifi>=2017.4.17 in c:\\users\\zhent\\appdata\\local\\programs\\python\\python310\\lib\\site-packages (from requests>=2.23.0->ultralytics) (2023.5.7)\n",
      "Requirement already satisfied: filelock in c:\\users\\zhent\\appdata\\local\\programs\\python\\python310\\lib\\site-packages (from torch>=1.8.0->ultralytics) (3.15.1)\n",
      "Requirement already satisfied: typing-extensions>=4.8.0 in c:\\users\\zhent\\appdata\\local\\programs\\python\\python310\\lib\\site-packages (from torch>=1.8.0->ultralytics) (4.12.2)\n",
      "Requirement already satisfied: sympy in c:\\users\\zhent\\appdata\\local\\programs\\python\\python310\\lib\\site-packages (from torch>=1.8.0->ultralytics) (1.12.1)\n",
      "Requirement already satisfied: networkx in c:\\users\\zhent\\appdata\\local\\programs\\python\\python310\\lib\\site-packages (from torch>=1.8.0->ultralytics) (3.3)\n",
      "Requirement already satisfied: jinja2 in c:\\users\\zhent\\appdata\\local\\programs\\python\\python310\\lib\\site-packages (from torch>=1.8.0->ultralytics) (3.1.3)\n",
      "Requirement already satisfied: fsspec in c:\\users\\zhent\\appdata\\local\\programs\\python\\python310\\lib\\site-packages (from torch>=1.8.0->ultralytics) (2024.6.0)\n",
      "Requirement already satisfied: mkl<=2021.4.0,>=2021.1.1 in c:\\users\\zhent\\appdata\\local\\programs\\python\\python310\\lib\\site-packages (from torch>=1.8.0->ultralytics) (2021.4.0)\n",
      "Requirement already satisfied: colorama in c:\\users\\zhent\\appdata\\local\\programs\\python\\python310\\lib\\site-packages (from tqdm>=4.64.0->ultralytics) (0.4.6)\n",
      "Requirement already satisfied: intel-openmp==2021.* in c:\\users\\zhent\\appdata\\local\\programs\\python\\python310\\lib\\site-packages (from mkl<=2021.4.0,>=2021.1.1->torch>=1.8.0->ultralytics) (2021.4.0)\n",
      "Requirement already satisfied: tbb==2021.* in c:\\users\\zhent\\appdata\\local\\programs\\python\\python310\\lib\\site-packages (from mkl<=2021.4.0,>=2021.1.1->torch>=1.8.0->ultralytics) (2021.12.0)\n",
      "Requirement already satisfied: six>=1.5 in c:\\users\\zhent\\appdata\\local\\programs\\python\\python310\\lib\\site-packages (from python-dateutil>=2.7->matplotlib>=3.3.0->ultralytics) (1.16.0)\n",
      "Requirement already satisfied: MarkupSafe>=2.0 in c:\\users\\zhent\\appdata\\local\\programs\\python\\python310\\lib\\site-packages (from jinja2->torch>=1.8.0->ultralytics) (2.1.4)\n",
      "Requirement already satisfied: mpmath<1.4.0,>=1.1.0 in c:\\users\\zhent\\appdata\\local\\programs\\python\\python310\\lib\\site-packages (from sympy->torch>=1.8.0->ultralytics) (1.3.0)\n"
     ]
    },
    {
     "name": "stderr",
     "output_type": "stream",
     "text": [
      "\n",
      "[notice] A new release of pip is available: 24.0 -> 24.1.1\n",
      "[notice] To update, run: python.exe -m pip install --upgrade pip\n"
     ]
    }
   ],
   "source": [
    "!pip install ultralytics"
   ]
  },
  {
   "cell_type": "code",
   "execution_count": 2,
   "metadata": {},
   "outputs": [
    {
     "name": "stdout",
     "output_type": "stream",
     "text": [
      "Collecting roboflow\n",
      "  Downloading roboflow-1.1.34-py3-none-any.whl.metadata (9.5 kB)\n",
      "Requirement already satisfied: certifi in c:\\users\\zhent\\appdata\\local\\programs\\python\\python310\\lib\\site-packages (from roboflow) (2023.5.7)\n",
      "Collecting chardet==4.0.0 (from roboflow)\n",
      "  Downloading chardet-4.0.0-py2.py3-none-any.whl.metadata (3.5 kB)\n",
      "Collecting idna==3.7 (from roboflow)\n",
      "  Downloading idna-3.7-py3-none-any.whl.metadata (9.9 kB)\n",
      "Requirement already satisfied: cycler in c:\\users\\zhent\\appdata\\local\\programs\\python\\python310\\lib\\site-packages (from roboflow) (0.12.1)\n",
      "Requirement already satisfied: kiwisolver>=1.3.1 in c:\\users\\zhent\\appdata\\local\\programs\\python\\python310\\lib\\site-packages (from roboflow) (1.4.5)\n",
      "Requirement already satisfied: matplotlib in c:\\users\\zhent\\appdata\\local\\programs\\python\\python310\\lib\\site-packages (from roboflow) (3.9.0)\n",
      "Requirement already satisfied: numpy>=1.18.5 in c:\\users\\zhent\\appdata\\local\\programs\\python\\python310\\lib\\site-packages (from roboflow) (1.26.4)\n",
      "Collecting opencv-python-headless==4.10.0.84 (from roboflow)\n",
      "  Downloading opencv_python_headless-4.10.0.84-cp37-abi3-win_amd64.whl.metadata (20 kB)\n",
      "Requirement already satisfied: Pillow>=7.1.2 in c:\\users\\zhent\\appdata\\local\\programs\\python\\python310\\lib\\site-packages (from roboflow) (10.3.0)\n",
      "Requirement already satisfied: python-dateutil in c:\\users\\zhent\\appdata\\local\\programs\\python\\python310\\lib\\site-packages (from roboflow) (2.9.0.post0)\n",
      "Collecting python-dotenv (from roboflow)\n",
      "  Downloading python_dotenv-1.0.1-py3-none-any.whl.metadata (23 kB)\n",
      "Requirement already satisfied: requests in c:\\users\\zhent\\appdata\\local\\programs\\python\\python310\\lib\\site-packages (from roboflow) (2.31.0)\n",
      "Requirement already satisfied: six in c:\\users\\zhent\\appdata\\local\\programs\\python\\python310\\lib\\site-packages (from roboflow) (1.16.0)\n",
      "Requirement already satisfied: urllib3>=1.26.6 in c:\\users\\zhent\\appdata\\local\\programs\\python\\python310\\lib\\site-packages (from roboflow) (2.0.2)\n",
      "Requirement already satisfied: tqdm>=4.41.0 in c:\\users\\zhent\\appdata\\local\\programs\\python\\python310\\lib\\site-packages (from roboflow) (4.65.0)\n",
      "Requirement already satisfied: PyYAML>=5.3.1 in c:\\users\\zhent\\appdata\\local\\programs\\python\\python310\\lib\\site-packages (from roboflow) (6.0.1)\n",
      "Collecting requests-toolbelt (from roboflow)\n",
      "  Downloading requests_toolbelt-1.0.0-py2.py3-none-any.whl.metadata (14 kB)\n",
      "Collecting python-magic (from roboflow)\n",
      "  Downloading python_magic-0.4.27-py2.py3-none-any.whl.metadata (5.8 kB)\n",
      "Requirement already satisfied: colorama in c:\\users\\zhent\\appdata\\local\\programs\\python\\python310\\lib\\site-packages (from tqdm>=4.41.0->roboflow) (0.4.6)\n",
      "Requirement already satisfied: contourpy>=1.0.1 in c:\\users\\zhent\\appdata\\local\\programs\\python\\python310\\lib\\site-packages (from matplotlib->roboflow) (1.2.1)\n",
      "Requirement already satisfied: fonttools>=4.22.0 in c:\\users\\zhent\\appdata\\local\\programs\\python\\python310\\lib\\site-packages (from matplotlib->roboflow) (4.53.0)\n",
      "Requirement already satisfied: packaging>=20.0 in c:\\users\\zhent\\appdata\\local\\programs\\python\\python310\\lib\\site-packages (from matplotlib->roboflow) (24.1)\n",
      "Requirement already satisfied: pyparsing>=2.3.1 in c:\\users\\zhent\\appdata\\local\\programs\\python\\python310\\lib\\site-packages (from matplotlib->roboflow) (3.0.9)\n",
      "Requirement already satisfied: charset-normalizer<4,>=2 in c:\\users\\zhent\\appdata\\local\\programs\\python\\python310\\lib\\site-packages (from requests->roboflow) (3.1.0)\n",
      "Downloading roboflow-1.1.34-py3-none-any.whl (76 kB)\n",
      "   ---------------------------------------- 0.0/76.2 kB ? eta -:--:--\n",
      "   ---------------------------------------- 76.2/76.2 kB 2.1 MB/s eta 0:00:00\n",
      "Downloading chardet-4.0.0-py2.py3-none-any.whl (178 kB)\n",
      "   ---------------------------------------- 0.0/178.7 kB ? eta -:--:--\n",
      "   -------------------------------------- - 174.1/178.7 kB 5.3 MB/s eta 0:00:01\n",
      "   ---------------------------------------- 178.7/178.7 kB 5.4 MB/s eta 0:00:00\n",
      "Downloading idna-3.7-py3-none-any.whl (66 kB)\n",
      "   ---------------------------------------- 0.0/66.8 kB ? eta -:--:--\n",
      "   ---------------------------------------- 66.8/66.8 kB ? eta 0:00:00\n",
      "Downloading opencv_python_headless-4.10.0.84-cp37-abi3-win_amd64.whl (38.8 MB)\n",
      "   ---------------------------------------- 0.0/38.8 MB ? eta -:--:--\n",
      "   ---------------------------------------- 0.1/38.8 MB 2.9 MB/s eta 0:00:14\n",
      "   ---------------------------------------- 0.4/38.8 MB 5.0 MB/s eta 0:00:08\n",
      "    --------------------------------------- 0.7/38.8 MB 4.7 MB/s eta 0:00:09\n",
      "    --------------------------------------- 0.9/38.8 MB 5.1 MB/s eta 0:00:08\n",
      "   - -------------------------------------- 1.0/38.8 MB 4.2 MB/s eta 0:00:09\n",
      "   - -------------------------------------- 1.4/38.8 MB 5.1 MB/s eta 0:00:08\n",
      "   - -------------------------------------- 1.5/38.8 MB 4.7 MB/s eta 0:00:08\n",
      "   - -------------------------------------- 1.8/38.8 MB 4.9 MB/s eta 0:00:08\n",
      "   -- ------------------------------------- 2.0/38.8 MB 4.8 MB/s eta 0:00:08\n",
      "   -- ------------------------------------- 2.1/38.8 MB 4.7 MB/s eta 0:00:08\n",
      "   -- ------------------------------------- 2.3/38.8 MB 4.6 MB/s eta 0:00:08\n",
      "   -- ------------------------------------- 2.4/38.8 MB 4.5 MB/s eta 0:00:09\n",
      "   -- ------------------------------------- 2.6/38.8 MB 4.3 MB/s eta 0:00:09\n",
      "   -- ------------------------------------- 2.7/38.8 MB 4.2 MB/s eta 0:00:09\n",
      "   --- ------------------------------------ 3.0/38.8 MB 4.3 MB/s eta 0:00:09\n",
      "   --- ------------------------------------ 3.2/38.8 MB 4.4 MB/s eta 0:00:09\n",
      "   --- ------------------------------------ 3.4/38.8 MB 4.4 MB/s eta 0:00:09\n",
      "   --- ------------------------------------ 3.6/38.8 MB 4.4 MB/s eta 0:00:09\n",
      "   ---- ----------------------------------- 3.9/38.8 MB 4.4 MB/s eta 0:00:08\n",
      "   ---- ----------------------------------- 4.2/38.8 MB 4.5 MB/s eta 0:00:08\n",
      "   ---- ----------------------------------- 4.5/38.8 MB 4.7 MB/s eta 0:00:08\n",
      "   ---- ----------------------------------- 4.8/38.8 MB 4.8 MB/s eta 0:00:08\n",
      "   ----- ---------------------------------- 5.2/38.8 MB 4.9 MB/s eta 0:00:07\n",
      "   ----- ---------------------------------- 5.6/38.8 MB 5.0 MB/s eta 0:00:07\n",
      "   ------ --------------------------------- 5.9/38.8 MB 5.2 MB/s eta 0:00:07\n",
      "   ------ --------------------------------- 6.2/38.8 MB 5.2 MB/s eta 0:00:07\n",
      "   ------ --------------------------------- 6.4/38.8 MB 5.1 MB/s eta 0:00:07\n",
      "   ------- -------------------------------- 6.9/38.8 MB 5.3 MB/s eta 0:00:07\n",
      "   ------- -------------------------------- 7.1/38.8 MB 5.3 MB/s eta 0:00:06\n",
      "   ------- -------------------------------- 7.4/38.8 MB 5.3 MB/s eta 0:00:06\n",
      "   ------- -------------------------------- 7.5/38.8 MB 5.3 MB/s eta 0:00:06\n",
      "   -------- ------------------------------- 7.9/38.8 MB 5.3 MB/s eta 0:00:06\n",
      "   -------- ------------------------------- 8.1/38.8 MB 5.3 MB/s eta 0:00:06\n",
      "   -------- ------------------------------- 8.3/38.8 MB 5.3 MB/s eta 0:00:06\n",
      "   -------- ------------------------------- 8.5/38.8 MB 5.3 MB/s eta 0:00:06\n",
      "   -------- ------------------------------- 8.6/38.8 MB 5.1 MB/s eta 0:00:06\n",
      "   --------- ------------------------------ 8.8/38.8 MB 5.1 MB/s eta 0:00:06\n",
      "   --------- ------------------------------ 8.9/38.8 MB 5.0 MB/s eta 0:00:06\n",
      "   --------- ------------------------------ 9.1/38.8 MB 5.1 MB/s eta 0:00:06\n",
      "   --------- ------------------------------ 9.3/38.8 MB 5.0 MB/s eta 0:00:06\n",
      "   --------- ------------------------------ 9.5/38.8 MB 5.0 MB/s eta 0:00:06\n",
      "   --------- ------------------------------ 9.7/38.8 MB 5.0 MB/s eta 0:00:06\n",
      "   ---------- ----------------------------- 9.9/38.8 MB 5.0 MB/s eta 0:00:06\n",
      "   ---------- ----------------------------- 10.3/38.8 MB 5.0 MB/s eta 0:00:06\n",
      "   ---------- ----------------------------- 10.4/38.8 MB 5.0 MB/s eta 0:00:06\n",
      "   ----------- ---------------------------- 10.7/38.8 MB 5.1 MB/s eta 0:00:06\n",
      "   ----------- ---------------------------- 10.9/38.8 MB 5.0 MB/s eta 0:00:06\n",
      "   ----------- ---------------------------- 11.1/38.8 MB 5.1 MB/s eta 0:00:06\n",
      "   ----------- ---------------------------- 11.3/38.8 MB 5.1 MB/s eta 0:00:06\n",
      "   ------------ --------------------------- 11.6/38.8 MB 5.0 MB/s eta 0:00:06\n",
      "   ------------ --------------------------- 11.8/38.8 MB 5.0 MB/s eta 0:00:06\n",
      "   ------------ --------------------------- 11.9/38.8 MB 5.0 MB/s eta 0:00:06\n",
      "   ------------ --------------------------- 12.1/38.8 MB 5.0 MB/s eta 0:00:06\n",
      "   ------------ --------------------------- 12.4/38.8 MB 5.1 MB/s eta 0:00:06\n",
      "   ------------- -------------------------- 12.6/38.8 MB 5.2 MB/s eta 0:00:06\n",
      "   ------------- -------------------------- 12.8/38.8 MB 5.1 MB/s eta 0:00:06\n",
      "   ------------- -------------------------- 13.0/38.8 MB 5.2 MB/s eta 0:00:05\n",
      "   ------------- -------------------------- 13.1/38.8 MB 5.1 MB/s eta 0:00:06\n",
      "   ------------- -------------------------- 13.5/38.8 MB 5.1 MB/s eta 0:00:05\n",
      "   -------------- ------------------------- 13.8/38.8 MB 5.2 MB/s eta 0:00:05\n",
      "   -------------- ------------------------- 14.0/38.8 MB 5.2 MB/s eta 0:00:05\n",
      "   -------------- ------------------------- 14.2/38.8 MB 5.2 MB/s eta 0:00:05\n",
      "   --------------- ------------------------ 14.6/38.8 MB 5.2 MB/s eta 0:00:05\n",
      "   --------------- ------------------------ 14.8/38.8 MB 5.2 MB/s eta 0:00:05\n",
      "   --------------- ------------------------ 15.1/38.8 MB 5.2 MB/s eta 0:00:05\n",
      "   ---------------- ----------------------- 15.5/38.8 MB 5.2 MB/s eta 0:00:05\n",
      "   ---------------- ----------------------- 15.7/38.8 MB 5.1 MB/s eta 0:00:05\n",
      "   ---------------- ----------------------- 16.0/38.8 MB 5.1 MB/s eta 0:00:05\n",
      "   ---------------- ----------------------- 16.1/38.8 MB 5.0 MB/s eta 0:00:05\n",
      "   ---------------- ----------------------- 16.2/38.8 MB 4.9 MB/s eta 0:00:05\n",
      "   ---------------- ----------------------- 16.4/38.8 MB 4.9 MB/s eta 0:00:05\n",
      "   ----------------- ---------------------- 16.6/38.8 MB 4.9 MB/s eta 0:00:05\n",
      "   ----------------- ---------------------- 16.8/38.8 MB 4.8 MB/s eta 0:00:05\n",
      "   ----------------- ---------------------- 17.1/38.8 MB 4.8 MB/s eta 0:00:05\n",
      "   ----------------- ---------------------- 17.3/38.8 MB 4.8 MB/s eta 0:00:05\n",
      "   ------------------ --------------------- 17.5/38.8 MB 4.7 MB/s eta 0:00:05\n",
      "   ------------------ --------------------- 17.7/38.8 MB 4.8 MB/s eta 0:00:05\n",
      "   ------------------ --------------------- 17.9/38.8 MB 4.7 MB/s eta 0:00:05\n",
      "   ------------------ --------------------- 18.2/38.8 MB 4.7 MB/s eta 0:00:05\n",
      "   ------------------- -------------------- 18.5/38.8 MB 4.7 MB/s eta 0:00:05\n",
      "   ------------------- -------------------- 18.9/38.8 MB 4.9 MB/s eta 0:00:05\n",
      "   ------------------- -------------------- 19.2/38.8 MB 5.0 MB/s eta 0:00:04\n",
      "   -------------------- ------------------- 19.5/38.8 MB 5.1 MB/s eta 0:00:04\n",
      "   -------------------- ------------------- 19.7/38.8 MB 5.1 MB/s eta 0:00:04\n",
      "   -------------------- ------------------- 20.0/38.8 MB 5.2 MB/s eta 0:00:04\n",
      "   -------------------- ------------------- 20.2/38.8 MB 5.2 MB/s eta 0:00:04\n",
      "   --------------------- ------------------ 20.6/38.8 MB 5.2 MB/s eta 0:00:04\n",
      "   --------------------- ------------------ 20.9/38.8 MB 5.2 MB/s eta 0:00:04\n",
      "   --------------------- ------------------ 21.2/38.8 MB 5.2 MB/s eta 0:00:04\n",
      "   ---------------------- ----------------- 21.5/38.8 MB 5.3 MB/s eta 0:00:04\n",
      "   ---------------------- ----------------- 21.7/38.8 MB 5.3 MB/s eta 0:00:04\n",
      "   ---------------------- ----------------- 22.1/38.8 MB 5.5 MB/s eta 0:00:04\n",
      "   ----------------------- ---------------- 22.3/38.8 MB 5.5 MB/s eta 0:00:04\n",
      "   ----------------------- ---------------- 22.7/38.8 MB 5.5 MB/s eta 0:00:03\n",
      "   ----------------------- ---------------- 22.8/38.8 MB 5.5 MB/s eta 0:00:03\n",
      "   ----------------------- ---------------- 23.1/38.8 MB 5.5 MB/s eta 0:00:03\n",
      "   ------------------------ --------------- 23.3/38.8 MB 5.6 MB/s eta 0:00:03\n",
      "   ------------------------ --------------- 23.6/38.8 MB 5.5 MB/s eta 0:00:03\n",
      "   ------------------------ --------------- 23.9/38.8 MB 5.6 MB/s eta 0:00:03\n",
      "   ------------------------ --------------- 24.1/38.8 MB 5.6 MB/s eta 0:00:03\n",
      "   ------------------------- -------------- 24.3/38.8 MB 5.5 MB/s eta 0:00:03\n",
      "   ------------------------- -------------- 24.6/38.8 MB 5.5 MB/s eta 0:00:03\n",
      "   ------------------------- -------------- 24.9/38.8 MB 5.5 MB/s eta 0:00:03\n",
      "   ------------------------- -------------- 25.0/38.8 MB 5.5 MB/s eta 0:00:03\n",
      "   ------------------------- -------------- 25.1/38.8 MB 5.3 MB/s eta 0:00:03\n",
      "   ------------------------- -------------- 25.2/38.8 MB 5.2 MB/s eta 0:00:03\n",
      "   -------------------------- ------------- 25.3/38.8 MB 5.2 MB/s eta 0:00:03\n",
      "   -------------------------- ------------- 25.4/38.8 MB 5.1 MB/s eta 0:00:03\n",
      "   -------------------------- ------------- 25.5/38.8 MB 5.0 MB/s eta 0:00:03\n",
      "   -------------------------- ------------- 25.7/38.8 MB 4.9 MB/s eta 0:00:03\n",
      "   -------------------------- ------------- 25.9/38.8 MB 5.0 MB/s eta 0:00:03\n",
      "   -------------------------- ------------- 25.9/38.8 MB 5.0 MB/s eta 0:00:03\n",
      "   -------------------------- ------------- 26.1/38.8 MB 4.8 MB/s eta 0:00:03\n",
      "   --------------------------- ------------ 26.3/38.8 MB 4.8 MB/s eta 0:00:03\n",
      "   --------------------------- ------------ 26.5/38.8 MB 4.8 MB/s eta 0:00:03\n",
      "   --------------------------- ------------ 26.8/38.8 MB 4.9 MB/s eta 0:00:03\n",
      "   --------------------------- ------------ 26.9/38.8 MB 4.9 MB/s eta 0:00:03\n",
      "   --------------------------- ------------ 27.1/38.8 MB 4.9 MB/s eta 0:00:03\n",
      "   ---------------------------- ----------- 27.3/38.8 MB 4.8 MB/s eta 0:00:03\n",
      "   ---------------------------- ----------- 27.5/38.8 MB 4.8 MB/s eta 0:00:03\n",
      "   ---------------------------- ----------- 27.7/38.8 MB 4.8 MB/s eta 0:00:03\n",
      "   ---------------------------- ----------- 27.8/38.8 MB 4.8 MB/s eta 0:00:03\n",
      "   ---------------------------- ----------- 28.0/38.8 MB 4.7 MB/s eta 0:00:03\n",
      "   ----------------------------- ---------- 28.3/38.8 MB 4.8 MB/s eta 0:00:03\n",
      "   ----------------------------- ---------- 28.6/38.8 MB 4.8 MB/s eta 0:00:03\n",
      "   ----------------------------- ---------- 28.8/38.8 MB 4.8 MB/s eta 0:00:03\n",
      "   ------------------------------ --------- 29.3/38.8 MB 4.8 MB/s eta 0:00:02\n",
      "   ------------------------------ --------- 29.5/38.8 MB 4.8 MB/s eta 0:00:02\n",
      "   ------------------------------ --------- 29.8/38.8 MB 4.8 MB/s eta 0:00:02\n",
      "   ------------------------------ --------- 29.9/38.8 MB 4.7 MB/s eta 0:00:02\n",
      "   ------------------------------- -------- 30.3/38.8 MB 4.7 MB/s eta 0:00:02\n",
      "   ------------------------------- -------- 30.4/38.8 MB 4.6 MB/s eta 0:00:02\n",
      "   ------------------------------- -------- 30.8/38.8 MB 4.7 MB/s eta 0:00:02\n",
      "   -------------------------------- ------- 31.5/38.8 MB 4.6 MB/s eta 0:00:02\n",
      "   --------------------------------- ------ 32.1/38.8 MB 4.7 MB/s eta 0:00:02\n",
      "   --------------------------------- ------ 32.3/38.8 MB 4.7 MB/s eta 0:00:02\n",
      "   --------------------------------- ------ 32.7/38.8 MB 4.7 MB/s eta 0:00:02\n",
      "   ---------------------------------- ----- 33.0/38.8 MB 4.7 MB/s eta 0:00:02\n",
      "   ---------------------------------- ----- 33.3/38.8 MB 4.7 MB/s eta 0:00:02\n",
      "   ---------------------------------- ----- 33.5/38.8 MB 4.8 MB/s eta 0:00:02\n",
      "   ---------------------------------- ----- 33.9/38.8 MB 4.7 MB/s eta 0:00:02\n",
      "   ----------------------------------- ---- 34.2/38.8 MB 4.8 MB/s eta 0:00:01\n",
      "   ----------------------------------- ---- 34.4/38.8 MB 4.9 MB/s eta 0:00:01\n",
      "   ----------------------------------- ---- 34.8/38.8 MB 4.8 MB/s eta 0:00:01\n",
      "   ------------------------------------ --- 34.9/38.8 MB 4.8 MB/s eta 0:00:01\n",
      "   ------------------------------------ --- 35.2/38.8 MB 4.9 MB/s eta 0:00:01\n",
      "   ------------------------------------ --- 35.6/38.8 MB 5.2 MB/s eta 0:00:01\n",
      "   ------------------------------------- -- 36.0/38.8 MB 5.5 MB/s eta 0:00:01\n",
      "   ------------------------------------- -- 36.2/38.8 MB 5.6 MB/s eta 0:00:01\n",
      "   ------------------------------------- -- 36.4/38.8 MB 5.6 MB/s eta 0:00:01\n",
      "   ------------------------------------- -- 36.6/38.8 MB 5.7 MB/s eta 0:00:01\n",
      "   -------------------------------------- - 37.0/38.8 MB 5.7 MB/s eta 0:00:01\n",
      "   -------------------------------------- - 37.3/38.8 MB 5.7 MB/s eta 0:00:01\n",
      "   -------------------------------------- - 37.7/38.8 MB 5.9 MB/s eta 0:00:01\n",
      "   ---------------------------------------  37.9/38.8 MB 6.0 MB/s eta 0:00:01\n",
      "   ---------------------------------------  38.2/38.8 MB 6.1 MB/s eta 0:00:01\n",
      "   ---------------------------------------  38.6/38.8 MB 6.2 MB/s eta 0:00:01\n",
      "   ---------------------------------------  38.7/38.8 MB 6.1 MB/s eta 0:00:01\n",
      "   ---------------------------------------  38.7/38.8 MB 6.1 MB/s eta 0:00:01\n",
      "   ---------------------------------------- 38.8/38.8 MB 5.8 MB/s eta 0:00:00\n",
      "Downloading python_dotenv-1.0.1-py3-none-any.whl (19 kB)\n",
      "Downloading python_magic-0.4.27-py2.py3-none-any.whl (13 kB)\n",
      "Downloading requests_toolbelt-1.0.0-py2.py3-none-any.whl (54 kB)\n",
      "   ---------------------------------------- 0.0/54.5 kB ? eta -:--:--\n",
      "   ---------------------------------------- 54.5/54.5 kB ? eta 0:00:00\n",
      "Installing collected packages: python-magic, python-dotenv, opencv-python-headless, idna, chardet, requests-toolbelt, roboflow\n",
      "  Attempting uninstall: idna\n",
      "    Found existing installation: idna 3.4\n",
      "    Uninstalling idna-3.4:\n",
      "      Successfully uninstalled idna-3.4\n",
      "Successfully installed chardet-4.0.0 idna-3.7 opencv-python-headless-4.10.0.84 python-dotenv-1.0.1 python-magic-0.4.27 requests-toolbelt-1.0.0 roboflow-1.1.34\n"
     ]
    },
    {
     "name": "stderr",
     "output_type": "stream",
     "text": [
      "\n",
      "[notice] A new release of pip is available: 24.0 -> 24.1.1\n",
      "[notice] To update, run: python.exe -m pip install --upgrade pip\n"
     ]
    }
   ],
   "source": [
    "!pip install roboflow"
   ]
  },
  {
   "cell_type": "code",
   "execution_count": null,
   "metadata": {},
   "outputs": [],
   "source": []
  },
  {
   "cell_type": "markdown",
   "metadata": {},
   "source": [
    "# Get Dataset"
   ]
  },
  {
   "cell_type": "markdown",
   "metadata": {},
   "source": []
  },
  {
   "cell_type": "code",
   "execution_count": 3,
   "metadata": {},
   "outputs": [
    {
     "name": "stdout",
     "output_type": "stream",
     "text": [
      "loading Roboflow workspace...\n",
      "loading Roboflow project...\n"
     ]
    },
    {
     "name": "stderr",
     "output_type": "stream",
     "text": [
      "Downloading Dataset Version Zip in football-players-detection-1 to yolov5pytorch:: 100%|██████████| 148663/148663 [00:20<00:00, 7394.43it/s] "
     ]
    },
    {
     "name": "stdout",
     "output_type": "stream",
     "text": [
      "\n"
     ]
    },
    {
     "name": "stderr",
     "output_type": "stream",
     "text": [
      "\n",
      "Extracting Dataset Version Zip to football-players-detection-1 in yolov5pytorch:: 100%|██████████| 1338/1338 [00:01<00:00, 1012.29it/s]\n"
     ]
    }
   ],
   "source": [
    "from roboflow import Roboflow\n",
    "rf = Roboflow(api_key=\"HEIVkitsKN5GrtOiJhcI\")\n",
    "project = rf.workspace(\"roboflow-jvuqo\").project(\"football-players-detection-3zvbc\")\n",
    "version = project.version(1)\n",
    "dataset = version.download(\"yolov5\")\n",
    "\n",
    "\n"
   ]
  },
  {
   "cell_type": "code",
   "execution_count": 4,
   "metadata": {},
   "outputs": [
    {
     "data": {
      "text/plain": [
       "'d:\\\\Sembreak project\\\\Football AI tracker\\\\Training\\\\football-players-detection-1'"
      ]
     },
     "execution_count": 4,
     "metadata": {},
     "output_type": "execute_result"
    }
   ],
   "source": [
    "dataset.location"
   ]
  },
  {
   "cell_type": "code",
   "execution_count": 5,
   "metadata": {},
   "outputs": [
    {
     "data": {
      "text/plain": [
       "'football-players-detection-1/football-players-detection-1/valid'"
      ]
     },
     "execution_count": 5,
     "metadata": {},
     "output_type": "execute_result"
    }
   ],
   "source": [
    "import shutil\n",
    "\n",
    "shutil.move('football-players-detection-1/train',\n",
    "            'football-players-detection-1/football-players-detection-1/train')\n",
    "\n",
    "shutil.move('football-players-detection-1/test',\n",
    "            'football-players-detection-1/football-players-detection-1/test')\n",
    "\n",
    "shutil.move('football-players-detection-1/valid',\n",
    "            'football-players-detection-1/football-players-detection-1/valid')"
   ]
  },
  {
   "cell_type": "markdown",
   "metadata": {},
   "source": [
    "# Training"
   ]
  },
  {
   "cell_type": "code",
   "execution_count": null,
   "metadata": {},
   "outputs": [],
   "source": [
    "!yolo task=detect mode=train model=yolov5x.pt data={dataset.location}/data.yaml epochs=100 imgsz=640 batch"
   ]
  }
 ],
 "metadata": {
  "kernelspec": {
   "display_name": "Python 3",
   "language": "python",
   "name": "python3"
  },
  "language_info": {
   "codemirror_mode": {
    "name": "ipython",
    "version": 3
   },
   "file_extension": ".py",
   "mimetype": "text/x-python",
   "name": "python",
   "nbconvert_exporter": "python",
   "pygments_lexer": "ipython3",
   "version": "3.10.6"
  }
 },
 "nbformat": 4,
 "nbformat_minor": 2
}
